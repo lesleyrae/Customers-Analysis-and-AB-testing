{
 "cells": [
  {
   "cell_type": "markdown",
   "id": "dedfc79d",
   "metadata": {},
   "source": [
    "# Customer Analytics¶\n",
    "## What is A/B test\n",
    "- test two or more variants agianst each other\n",
    "- to evaluate which one performs best\n",
    "- in the context of randomized experiment\n",
    "\n",
    "##  A/B testing Process\n",
    "\n",
    "1. develop a hypothesis about your product or business \n",
    "\n",
    "2. randomly assign users to two different groups\n",
    "\n",
    " - group 1 to current product rules\n",
    "\n",
    " - group 2 to a product that test hypothesis\n",
    "\n",
    "3. pick according to KPI"
   ]
  },
  {
   "cell_type": "markdown",
   "id": "1fe3251c",
   "metadata": {},
   "source": [
    "## Key performance indicators (KPIs)\n",
    "**How to identity KPIs: \n",
    "- experience+Domain knowledge + exploratory data analysis\n",
    "- stability over time\n",
    "- the importance with other factors"
   ]
  },
  {
   "cell_type": "markdown",
   "id": "a3343c83",
   "metadata": {},
   "source": [
    "## Question: which paywall has a higher conversion rate\n",
    "- Current paywall:\" I hoped that you enjoyed your free-trail, please consider subscribing\"(control)\n",
    "- Proposed paywall:\" Your free-trail has ended, do not miss out, subscribe today\"(experiment)\n",
    "\n",
    "### Process\n",
    "- Randomly subset the users and show one set the contrl and one the treatment\n",
    "- Monitor the conversion rates of each group to see which is better\n",
    " \n",
    "### The importance of randomness\n",
    "- isolate the impact of the change made\n",
    "- reduce the potential impact of confounding variabels\n",
    "- use a assigment criteria may introduce confounders\n",
    "\n",
    "### Pros and Cons\n",
    "- Pros: users are impacted individually; testing changes that directly impact hteir behavior\n",
    "- Cons: challenging to segment the users inot groups; difficult to untangle the impact of the test"
   ]
  },
  {
   "cell_type": "markdown",
   "id": "81710147",
   "metadata": {},
   "source": [
    "##  Initial A/B test design\n",
    "### Responsabe variable\n",
    "\n",
    "- The quantity used to measure the impact of your change\n",
    "- Should either be a KPI or directly related to a KPI\n",
    "- The easier to measure, the better\n",
    "\n",
    "### Factors & variants\n",
    "\n",
    "- Factors: the type of variable you are changing\n",
    "\n",
    " - The paywall color\n",
    " \n",
    "- Variants: Particular changes you are testing\n",
    "\n",
    " - A red vs a blue paywall\n",
    "\n",
    "### Experimental unit of our test\n",
    "- The smallest unit you are measuring the change over\n",
    "- Individual users make a convenient experimental unit"
   ]
  },
  {
   "cell_type": "markdown",
   "id": "ed76b083",
   "metadata": {},
   "source": [
    "## Preparing to run an A/B test\n",
    "### test sensitivity \n",
    "- First question: what size of impact is meaningful to test\n",
    "\n",
    "- Smaller changes=more difficult to dect\n",
    "\n",
    "- Sensitivity: the minimum level of change we want to be able to detect in our test\n",
    " - Evaluate different sensitivity values"
   ]
  },
  {
   "cell_type": "markdown",
   "id": "ab241568",
   "metadata": {},
   "source": [
    "### Data variability\n",
    "- Standard Error\n",
    "    - the variance and standard deviation of the estimate\n",
    "- Hypothesis\n",
    "    - Null Hypothesise: The launch of feature does not statistical significant change the KPI\n",
    "    - Reject Null Hypothesise: The launch of feature does statistical significant change the KPI\n",
    "### Parameters\n",
    "- Statistical Power\n",
    "    - Probability of finding a statistically significant result when the Null Hypothesis is false\n",
    "- Estimate sample size\n",
    "    - needed level of sensitivity\n",
    "    - our desired test power & confidence level\n",
    "- Effect size"
   ]
  },
  {
   "cell_type": "markdown",
   "id": "0c23da68",
   "metadata": {},
   "source": [
    "### Significance or Not?\n",
    "- P-value\n",
    " - probability if the Null Hypothesis is true...\n",
    " - Low p-values: the observation is unlikely to have happened due to randomness\n",
    "- Test\n",
    " - how significant the differences between groups are\n",
    "  - One-sample:same population\n",
    "  - Two-sample: different population"
   ]
  },
  {
   "cell_type": "markdown",
   "id": "a56061f2",
   "metadata": {},
   "source": [
    "## Our data set\n",
    "We are looking at data from an app. The app is very simple and has just  4  pages:\n",
    "\n",
    "* The first page is the home page. When you come to the site for the first time, you can only land on the home page as a first page.\n",
    "* From the home page, the user can perform a search and land on the search page.\n",
    "* From the search page, if the user clicks on a product, she will get to the payment page (paywall), where she is asked to provide payment information in order to subscribe.\n",
    "* If she does decide to buy, she ends up on the confirmation page\n",
    "\n",
    "**Data set overview** We have  5  files,  4  of them contains page_visit information and  1  of them contains user information.\n",
    "\n",
    "- page_visit_information\n",
    " - home_page_table.csv\n",
    " - search_page_table.csv\n",
    " - payment_page_table.csv\n",
    " - payment_confirmation_table.csv\n",
    "- user_information page\n",
    " - user_table.csv"
   ]
  },
  {
   "cell_type": "markdown",
   "id": "709a5cee",
   "metadata": {},
   "source": [
    "### Import"
   ]
  },
  {
   "cell_type": "code",
   "execution_count": 1,
   "id": "5c98293d",
   "metadata": {},
   "outputs": [],
   "source": [
    "import warnings\n",
    "warnings.filterwarnings('ignore')\n",
    "import pandas as pd\n",
    "import numpy as np \n",
    "import matplotlib.pyplot as plt\n",
    "import seaborn as sns \n",
    "from functools import reduce\n",
    "from sklearn import preprocessing\n",
    "from scipy import stats"
   ]
  },
  {
   "cell_type": "code",
   "execution_count": 2,
   "id": "ac1fdd92",
   "metadata": {},
   "outputs": [],
   "source": [
    "user_table = pd.read_csv('user_table.csv')"
   ]
  },
  {
   "cell_type": "code",
   "execution_count": 3,
   "id": "c2479782",
   "metadata": {
    "scrolled": true
   },
   "outputs": [
    {
     "data": {
      "text/html": [
       "<div>\n",
       "<style scoped>\n",
       "    .dataframe tbody tr th:only-of-type {\n",
       "        vertical-align: middle;\n",
       "    }\n",
       "\n",
       "    .dataframe tbody tr th {\n",
       "        vertical-align: top;\n",
       "    }\n",
       "\n",
       "    .dataframe thead th {\n",
       "        text-align: right;\n",
       "    }\n",
       "</style>\n",
       "<table border=\"1\" class=\"dataframe\">\n",
       "  <thead>\n",
       "    <tr style=\"text-align: right;\">\n",
       "      <th></th>\n",
       "      <th>user_id</th>\n",
       "      <th>date</th>\n",
       "      <th>device</th>\n",
       "      <th>sex</th>\n",
       "    </tr>\n",
       "  </thead>\n",
       "  <tbody>\n",
       "    <tr>\n",
       "      <th>0</th>\n",
       "      <td>450007</td>\n",
       "      <td>2015-02-28</td>\n",
       "      <td>Desktop</td>\n",
       "      <td>Female</td>\n",
       "    </tr>\n",
       "    <tr>\n",
       "      <th>1</th>\n",
       "      <td>756838</td>\n",
       "      <td>2015-01-13</td>\n",
       "      <td>Desktop</td>\n",
       "      <td>Male</td>\n",
       "    </tr>\n",
       "    <tr>\n",
       "      <th>2</th>\n",
       "      <td>568983</td>\n",
       "      <td>2015-04-09</td>\n",
       "      <td>Desktop</td>\n",
       "      <td>Male</td>\n",
       "    </tr>\n",
       "    <tr>\n",
       "      <th>3</th>\n",
       "      <td>190794</td>\n",
       "      <td>2015-02-18</td>\n",
       "      <td>Desktop</td>\n",
       "      <td>Female</td>\n",
       "    </tr>\n",
       "    <tr>\n",
       "      <th>4</th>\n",
       "      <td>537909</td>\n",
       "      <td>2015-01-15</td>\n",
       "      <td>Desktop</td>\n",
       "      <td>Male</td>\n",
       "    </tr>\n",
       "    <tr>\n",
       "      <th>...</th>\n",
       "      <td>...</td>\n",
       "      <td>...</td>\n",
       "      <td>...</td>\n",
       "      <td>...</td>\n",
       "    </tr>\n",
       "    <tr>\n",
       "      <th>90395</th>\n",
       "      <td>307667</td>\n",
       "      <td>2015-03-30</td>\n",
       "      <td>Desktop</td>\n",
       "      <td>Female</td>\n",
       "    </tr>\n",
       "    <tr>\n",
       "      <th>90396</th>\n",
       "      <td>642989</td>\n",
       "      <td>2015-02-08</td>\n",
       "      <td>Desktop</td>\n",
       "      <td>Female</td>\n",
       "    </tr>\n",
       "    <tr>\n",
       "      <th>90397</th>\n",
       "      <td>659645</td>\n",
       "      <td>2015-04-13</td>\n",
       "      <td>Desktop</td>\n",
       "      <td>Male</td>\n",
       "    </tr>\n",
       "    <tr>\n",
       "      <th>90398</th>\n",
       "      <td>359779</td>\n",
       "      <td>2015-03-23</td>\n",
       "      <td>Desktop</td>\n",
       "      <td>Male</td>\n",
       "    </tr>\n",
       "    <tr>\n",
       "      <th>90399</th>\n",
       "      <td>438929</td>\n",
       "      <td>2015-03-26</td>\n",
       "      <td>Mobile</td>\n",
       "      <td>Female</td>\n",
       "    </tr>\n",
       "  </tbody>\n",
       "</table>\n",
       "<p>90400 rows × 4 columns</p>\n",
       "</div>"
      ],
      "text/plain": [
       "       user_id        date   device     sex\n",
       "0       450007  2015-02-28  Desktop  Female\n",
       "1       756838  2015-01-13  Desktop    Male\n",
       "2       568983  2015-04-09  Desktop    Male\n",
       "3       190794  2015-02-18  Desktop  Female\n",
       "4       537909  2015-01-15  Desktop    Male\n",
       "...        ...         ...      ...     ...\n",
       "90395   307667  2015-03-30  Desktop  Female\n",
       "90396   642989  2015-02-08  Desktop  Female\n",
       "90397   659645  2015-04-13  Desktop    Male\n",
       "90398   359779  2015-03-23  Desktop    Male\n",
       "90399   438929  2015-03-26   Mobile  Female\n",
       "\n",
       "[90400 rows x 4 columns]"
      ]
     },
     "execution_count": 3,
     "metadata": {},
     "output_type": "execute_result"
    }
   ],
   "source": [
    "user_table"
   ]
  },
  {
   "cell_type": "markdown",
   "id": "37e255b1",
   "metadata": {},
   "source": [
    "### Create control and test groups\n",
    "randomized two groups"
   ]
  },
  {
   "cell_type": "code",
   "execution_count": 4,
   "id": "5876cc2e",
   "metadata": {},
   "outputs": [],
   "source": [
    "length=len(user_table['user_id'])"
   ]
  },
  {
   "cell_type": "code",
   "execution_count": 5,
   "id": "1044461f",
   "metadata": {},
   "outputs": [],
   "source": [
    "k=np.random.binomial(1,0.495,length)"
   ]
  },
  {
   "cell_type": "code",
   "execution_count": 6,
   "id": "2b01fe72",
   "metadata": {},
   "outputs": [
    {
     "name": "stdout",
     "output_type": "stream",
     "text": [
      "<class 'pandas.core.frame.DataFrame'>\n",
      "RangeIndex: 90400 entries, 0 to 90399\n",
      "Data columns (total 5 columns):\n",
      " #   Column   Non-Null Count  Dtype \n",
      "---  ------   --------------  ----- \n",
      " 0   user_id  90400 non-null  int64 \n",
      " 1   date     90400 non-null  object\n",
      " 2   device   90400 non-null  object\n",
      " 3   sex      90400 non-null  object\n",
      " 4   group    90400 non-null  int64 \n",
      "dtypes: int64(2), object(3)\n",
      "memory usage: 3.4+ MB\n"
     ]
    }
   ],
   "source": [
    "user_table['group']=k\n",
    "user_table.info()"
   ]
  },
  {
   "cell_type": "code",
   "execution_count": 7,
   "id": "2d52e309",
   "metadata": {},
   "outputs": [],
   "source": [
    "user_table['group']=user_table['group'].replace(1,'test')\n",
    "user_table['group']=user_table['group'].replace(0,'control')"
   ]
  },
  {
   "cell_type": "markdown",
   "id": "2ebff8f1",
   "metadata": {},
   "source": [
    "### import datasets"
   ]
  },
  {
   "cell_type": "code",
   "execution_count": 8,
   "id": "3936d811",
   "metadata": {},
   "outputs": [],
   "source": [
    "home_page = pd.read_csv('home_page_table.csv')\n",
    "payment_confirmation= pd.read_csv('payment_confirmation_table.csv')\n",
    "payment_page= pd.read_csv('payment_page_table.csv')\n",
    "search_page= pd.read_csv('search_page_table.csv')"
   ]
  },
  {
   "cell_type": "code",
   "execution_count": 9,
   "id": "c0011bc9",
   "metadata": {
    "scrolled": true
   },
   "outputs": [
    {
     "data": {
      "text/plain": [
       "Index(['user_id', 'page'], dtype='object')"
      ]
     },
     "execution_count": 9,
     "metadata": {},
     "output_type": "execute_result"
    }
   ],
   "source": [
    "home_page.columns\n",
    "payment_confirmation.columns"
   ]
  },
  {
   "cell_type": "code",
   "execution_count": 171,
   "id": "8e38106b",
   "metadata": {
    "scrolled": false
   },
   "outputs": [
    {
     "name": "stdout",
     "output_type": "stream",
     "text": [
      "<class 'pandas.core.frame.DataFrame'>\n",
      "Int64Index: 90400 entries, 0 to 90399\n",
      "Data columns (total 9 columns):\n",
      " #   Column           Non-Null Count  Dtype \n",
      "---  ------           --------------  ----- \n",
      " 0   user_id          90400 non-null  int64 \n",
      " 1   date             90400 non-null  object\n",
      " 2   device           90400 non-null  object\n",
      " 3   sex              90400 non-null  object\n",
      " 4   group            90400 non-null  object\n",
      " 5   home_page        90400 non-null  object\n",
      " 6   search_page      45200 non-null  object\n",
      " 7   payment_page     6030 non-null   object\n",
      " 8   payment_confirm  452 non-null    object\n",
      "dtypes: int64(1), object(8)\n",
      "memory usage: 6.9+ MB\n"
     ]
    }
   ],
   "source": [
    "# Compile the list of dataframes you want to merge\n",
    "data_frames = [user_table, home_page, search_page, payment_page, payment_confirmation]\n",
    "df_merged = reduce(lambda  left,right: pd.merge(left,right,on=['user_id'], how='outer'), data_frames)\n",
    "df_merged.columns = ['user_id', 'date', 'device', 'sex', 'group', 'home_page', 'search_page', \n",
    "                     'payment_page', 'payment_confirm']\n",
    "df_merged.info()"
   ]
  },
  {
   "cell_type": "code",
   "execution_count": 10,
   "id": "6adf4ec4",
   "metadata": {},
   "outputs": [],
   "source": [
    "df=user_table.merge(home_page,on=['user_id'],how='left')"
   ]
  },
  {
   "cell_type": "code",
   "execution_count": 11,
   "id": "04ce7fab",
   "metadata": {},
   "outputs": [],
   "source": [
    "df=df.merge(search_page,on=['user_id'],how='left')"
   ]
  },
  {
   "cell_type": "code",
   "execution_count": 12,
   "id": "39a57ab0",
   "metadata": {},
   "outputs": [],
   "source": [
    "df=df.merge(payment_page,on=['user_id'],how='left')"
   ]
  },
  {
   "cell_type": "code",
   "execution_count": 13,
   "id": "ab0acd54",
   "metadata": {},
   "outputs": [],
   "source": [
    "df=df.merge(payment_confirmation,on=['user_id'],how='left')"
   ]
  },
  {
   "cell_type": "code",
   "execution_count": 14,
   "id": "e97aadb6",
   "metadata": {},
   "outputs": [
    {
     "data": {
      "text/html": [
       "<div>\n",
       "<style scoped>\n",
       "    .dataframe tbody tr th:only-of-type {\n",
       "        vertical-align: middle;\n",
       "    }\n",
       "\n",
       "    .dataframe tbody tr th {\n",
       "        vertical-align: top;\n",
       "    }\n",
       "\n",
       "    .dataframe thead th {\n",
       "        text-align: right;\n",
       "    }\n",
       "</style>\n",
       "<table border=\"1\" class=\"dataframe\">\n",
       "  <thead>\n",
       "    <tr style=\"text-align: right;\">\n",
       "      <th></th>\n",
       "      <th>user_id</th>\n",
       "      <th>date</th>\n",
       "      <th>device</th>\n",
       "      <th>sex</th>\n",
       "      <th>group</th>\n",
       "      <th>page_x</th>\n",
       "      <th>page_y</th>\n",
       "      <th>page_x</th>\n",
       "      <th>page_y</th>\n",
       "    </tr>\n",
       "  </thead>\n",
       "  <tbody>\n",
       "    <tr>\n",
       "      <th>0</th>\n",
       "      <td>450007</td>\n",
       "      <td>2015-02-28</td>\n",
       "      <td>Desktop</td>\n",
       "      <td>Female</td>\n",
       "      <td>control</td>\n",
       "      <td>home_page</td>\n",
       "      <td>NaN</td>\n",
       "      <td>NaN</td>\n",
       "      <td>NaN</td>\n",
       "    </tr>\n",
       "    <tr>\n",
       "      <th>1</th>\n",
       "      <td>756838</td>\n",
       "      <td>2015-01-13</td>\n",
       "      <td>Desktop</td>\n",
       "      <td>Male</td>\n",
       "      <td>control</td>\n",
       "      <td>home_page</td>\n",
       "      <td>NaN</td>\n",
       "      <td>NaN</td>\n",
       "      <td>NaN</td>\n",
       "    </tr>\n",
       "    <tr>\n",
       "      <th>2</th>\n",
       "      <td>568983</td>\n",
       "      <td>2015-04-09</td>\n",
       "      <td>Desktop</td>\n",
       "      <td>Male</td>\n",
       "      <td>test</td>\n",
       "      <td>home_page</td>\n",
       "      <td>search_page</td>\n",
       "      <td>NaN</td>\n",
       "      <td>NaN</td>\n",
       "    </tr>\n",
       "    <tr>\n",
       "      <th>3</th>\n",
       "      <td>190794</td>\n",
       "      <td>2015-02-18</td>\n",
       "      <td>Desktop</td>\n",
       "      <td>Female</td>\n",
       "      <td>test</td>\n",
       "      <td>home_page</td>\n",
       "      <td>search_page</td>\n",
       "      <td>NaN</td>\n",
       "      <td>NaN</td>\n",
       "    </tr>\n",
       "    <tr>\n",
       "      <th>4</th>\n",
       "      <td>537909</td>\n",
       "      <td>2015-01-15</td>\n",
       "      <td>Desktop</td>\n",
       "      <td>Male</td>\n",
       "      <td>control</td>\n",
       "      <td>home_page</td>\n",
       "      <td>NaN</td>\n",
       "      <td>NaN</td>\n",
       "      <td>NaN</td>\n",
       "    </tr>\n",
       "    <tr>\n",
       "      <th>...</th>\n",
       "      <td>...</td>\n",
       "      <td>...</td>\n",
       "      <td>...</td>\n",
       "      <td>...</td>\n",
       "      <td>...</td>\n",
       "      <td>...</td>\n",
       "      <td>...</td>\n",
       "      <td>...</td>\n",
       "      <td>...</td>\n",
       "    </tr>\n",
       "    <tr>\n",
       "      <th>90395</th>\n",
       "      <td>307667</td>\n",
       "      <td>2015-03-30</td>\n",
       "      <td>Desktop</td>\n",
       "      <td>Female</td>\n",
       "      <td>test</td>\n",
       "      <td>home_page</td>\n",
       "      <td>NaN</td>\n",
       "      <td>NaN</td>\n",
       "      <td>NaN</td>\n",
       "    </tr>\n",
       "    <tr>\n",
       "      <th>90396</th>\n",
       "      <td>642989</td>\n",
       "      <td>2015-02-08</td>\n",
       "      <td>Desktop</td>\n",
       "      <td>Female</td>\n",
       "      <td>test</td>\n",
       "      <td>home_page</td>\n",
       "      <td>search_page</td>\n",
       "      <td>NaN</td>\n",
       "      <td>NaN</td>\n",
       "    </tr>\n",
       "    <tr>\n",
       "      <th>90397</th>\n",
       "      <td>659645</td>\n",
       "      <td>2015-04-13</td>\n",
       "      <td>Desktop</td>\n",
       "      <td>Male</td>\n",
       "      <td>test</td>\n",
       "      <td>home_page</td>\n",
       "      <td>search_page</td>\n",
       "      <td>NaN</td>\n",
       "      <td>NaN</td>\n",
       "    </tr>\n",
       "    <tr>\n",
       "      <th>90398</th>\n",
       "      <td>359779</td>\n",
       "      <td>2015-03-23</td>\n",
       "      <td>Desktop</td>\n",
       "      <td>Male</td>\n",
       "      <td>test</td>\n",
       "      <td>home_page</td>\n",
       "      <td>NaN</td>\n",
       "      <td>NaN</td>\n",
       "      <td>NaN</td>\n",
       "    </tr>\n",
       "    <tr>\n",
       "      <th>90399</th>\n",
       "      <td>438929</td>\n",
       "      <td>2015-03-26</td>\n",
       "      <td>Mobile</td>\n",
       "      <td>Female</td>\n",
       "      <td>control</td>\n",
       "      <td>home_page</td>\n",
       "      <td>NaN</td>\n",
       "      <td>NaN</td>\n",
       "      <td>NaN</td>\n",
       "    </tr>\n",
       "  </tbody>\n",
       "</table>\n",
       "<p>90400 rows × 9 columns</p>\n",
       "</div>"
      ],
      "text/plain": [
       "       user_id        date   device     sex    group     page_x       page_y  \\\n",
       "0       450007  2015-02-28  Desktop  Female  control  home_page          NaN   \n",
       "1       756838  2015-01-13  Desktop    Male  control  home_page          NaN   \n",
       "2       568983  2015-04-09  Desktop    Male     test  home_page  search_page   \n",
       "3       190794  2015-02-18  Desktop  Female     test  home_page  search_page   \n",
       "4       537909  2015-01-15  Desktop    Male  control  home_page          NaN   \n",
       "...        ...         ...      ...     ...      ...        ...          ...   \n",
       "90395   307667  2015-03-30  Desktop  Female     test  home_page          NaN   \n",
       "90396   642989  2015-02-08  Desktop  Female     test  home_page  search_page   \n",
       "90397   659645  2015-04-13  Desktop    Male     test  home_page  search_page   \n",
       "90398   359779  2015-03-23  Desktop    Male     test  home_page          NaN   \n",
       "90399   438929  2015-03-26   Mobile  Female  control  home_page          NaN   \n",
       "\n",
       "      page_x page_y  \n",
       "0        NaN    NaN  \n",
       "1        NaN    NaN  \n",
       "2        NaN    NaN  \n",
       "3        NaN    NaN  \n",
       "4        NaN    NaN  \n",
       "...      ...    ...  \n",
       "90395    NaN    NaN  \n",
       "90396    NaN    NaN  \n",
       "90397    NaN    NaN  \n",
       "90398    NaN    NaN  \n",
       "90399    NaN    NaN  \n",
       "\n",
       "[90400 rows x 9 columns]"
      ]
     },
     "execution_count": 14,
     "metadata": {},
     "output_type": "execute_result"
    }
   ],
   "source": [
    "df"
   ]
  },
  {
   "cell_type": "code",
   "execution_count": 15,
   "id": "a967380c",
   "metadata": {},
   "outputs": [],
   "source": [
    "df.columns=['user_id','date','device','sex','group','home_page','search_page',\n",
    "           'payment_page','payment_confirmation']"
   ]
  },
  {
   "cell_type": "code",
   "execution_count": 16,
   "id": "9c57c888",
   "metadata": {},
   "outputs": [
    {
     "name": "stdout",
     "output_type": "stream",
     "text": [
      "<class 'pandas.core.frame.DataFrame'>\n",
      "Int64Index: 90400 entries, 0 to 90399\n",
      "Data columns (total 9 columns):\n",
      " #   Column                Non-Null Count  Dtype \n",
      "---  ------                --------------  ----- \n",
      " 0   user_id               90400 non-null  int64 \n",
      " 1   date                  90400 non-null  object\n",
      " 2   device                90400 non-null  object\n",
      " 3   sex                   90400 non-null  object\n",
      " 4   group                 90400 non-null  object\n",
      " 5   home_page             90400 non-null  object\n",
      " 6   search_page           45200 non-null  object\n",
      " 7   payment_page          6030 non-null   object\n",
      " 8   payment_confirmation  452 non-null    object\n",
      "dtypes: int64(1), object(8)\n",
      "memory usage: 6.9+ MB\n"
     ]
    }
   ],
   "source": [
    "df.info()"
   ]
  },
  {
   "cell_type": "code",
   "execution_count": 17,
   "id": "51fd166c",
   "metadata": {},
   "outputs": [],
   "source": [
    "df['date']=pd.to_datetime(df['date'],utc=True)"
   ]
  },
  {
   "cell_type": "code",
   "execution_count": 18,
   "id": "e7ff893e",
   "metadata": {},
   "outputs": [],
   "source": [
    "df['home_page']=df['home_page'].fillna(0)\n",
    "df['search_page']=df['search_page'].fillna(0)\n",
    "df['payment_page']=df['payment_page'].fillna(0)\n",
    "df['payment_confirmation']=df['payment_confirmation'].fillna(0)"
   ]
  },
  {
   "cell_type": "code",
   "execution_count": 19,
   "id": "c69c2c3e",
   "metadata": {},
   "outputs": [],
   "source": [
    "df['home_page']=df['home_page'].replace('home_page',1)\n",
    "df['search_page']=df['search_page'].replace('search_page',1)\n",
    "df['payment_page']=df['payment_page'].replace('payment_page',1)\n",
    "df['payment_confirmation']=df['payment_confirmation'].replace('payment_confirmation_page',1)"
   ]
  },
  {
   "cell_type": "code",
   "execution_count": 20,
   "id": "bec4887a",
   "metadata": {
    "scrolled": true
   },
   "outputs": [
    {
     "data": {
      "text/plain": [
       "0    45200\n",
       "1    45200\n",
       "Name: search_page, dtype: int64"
      ]
     },
     "execution_count": 20,
     "metadata": {},
     "output_type": "execute_result"
    }
   ],
   "source": [
    "df['search_page'].value_counts()"
   ]
  },
  {
   "cell_type": "code",
   "execution_count": 21,
   "id": "ef153aac",
   "metadata": {
    "scrolled": true
   },
   "outputs": [
    {
     "data": {
      "text/plain": [
       "0    84370\n",
       "1     6030\n",
       "Name: payment_page, dtype: int64"
      ]
     },
     "execution_count": 21,
     "metadata": {},
     "output_type": "execute_result"
    }
   ],
   "source": [
    "df['payment_page'].value_counts()"
   ]
  },
  {
   "cell_type": "code",
   "execution_count": 23,
   "id": "c5a49caa",
   "metadata": {},
   "outputs": [
    {
     "data": {
      "text/plain": [
       "0    89948\n",
       "1      452\n",
       "Name: payment_confirmation, dtype: int64"
      ]
     },
     "execution_count": 23,
     "metadata": {},
     "output_type": "execute_result"
    }
   ],
   "source": [
    "df['payment_confirmation'].value_counts()"
   ]
  },
  {
   "cell_type": "markdown",
   "id": "8a7fd57d",
   "metadata": {},
   "source": [
    "## EAD"
   ]
  },
  {
   "cell_type": "markdown",
   "id": "6e3b7f99",
   "metadata": {},
   "source": [
    "- overall Conversion rate\n",
    "- group by gender\n",
    "- group by device"
   ]
  },
  {
   "cell_type": "code",
   "execution_count": 24,
   "id": "abc06b1a",
   "metadata": {},
   "outputs": [],
   "source": [
    "df_purchase=df.groupby(by=['date'],as_index=False)"
   ]
  },
  {
   "cell_type": "code",
   "execution_count": 25,
   "id": "1b28badb",
   "metadata": {},
   "outputs": [],
   "source": [
    "df_purchase=df_purchase.agg({'payment_confirmation':['sum','count']})"
   ]
  },
  {
   "cell_type": "code",
   "execution_count": 26,
   "id": "850dd06d",
   "metadata": {},
   "outputs": [],
   "source": [
    "df_purchase.columns=df_purchase.columns.droplevel(level=0)"
   ]
  },
  {
   "cell_type": "code",
   "execution_count": 27,
   "id": "66b95913",
   "metadata": {},
   "outputs": [],
   "source": [
    "df_purchase.columns=['date','sum','count']"
   ]
  },
  {
   "cell_type": "code",
   "execution_count": 28,
   "id": "791b8cf2",
   "metadata": {
    "scrolled": true
   },
   "outputs": [
    {
     "data": {
      "text/html": [
       "<div>\n",
       "<style scoped>\n",
       "    .dataframe tbody tr th:only-of-type {\n",
       "        vertical-align: middle;\n",
       "    }\n",
       "\n",
       "    .dataframe tbody tr th {\n",
       "        vertical-align: top;\n",
       "    }\n",
       "\n",
       "    .dataframe thead th {\n",
       "        text-align: right;\n",
       "    }\n",
       "</style>\n",
       "<table border=\"1\" class=\"dataframe\">\n",
       "  <thead>\n",
       "    <tr style=\"text-align: right;\">\n",
       "      <th></th>\n",
       "      <th>date</th>\n",
       "      <th>sum</th>\n",
       "      <th>count</th>\n",
       "    </tr>\n",
       "  </thead>\n",
       "  <tbody>\n",
       "    <tr>\n",
       "      <th>0</th>\n",
       "      <td>2015-01-01 00:00:00+00:00</td>\n",
       "      <td>6</td>\n",
       "      <td>712</td>\n",
       "    </tr>\n",
       "    <tr>\n",
       "      <th>1</th>\n",
       "      <td>2015-01-02 00:00:00+00:00</td>\n",
       "      <td>5</td>\n",
       "      <td>721</td>\n",
       "    </tr>\n",
       "    <tr>\n",
       "      <th>2</th>\n",
       "      <td>2015-01-03 00:00:00+00:00</td>\n",
       "      <td>7</td>\n",
       "      <td>760</td>\n",
       "    </tr>\n",
       "    <tr>\n",
       "      <th>3</th>\n",
       "      <td>2015-01-04 00:00:00+00:00</td>\n",
       "      <td>7</td>\n",
       "      <td>713</td>\n",
       "    </tr>\n",
       "    <tr>\n",
       "      <th>4</th>\n",
       "      <td>2015-01-05 00:00:00+00:00</td>\n",
       "      <td>11</td>\n",
       "      <td>754</td>\n",
       "    </tr>\n",
       "    <tr>\n",
       "      <th>...</th>\n",
       "      <td>...</td>\n",
       "      <td>...</td>\n",
       "      <td>...</td>\n",
       "    </tr>\n",
       "    <tr>\n",
       "      <th>115</th>\n",
       "      <td>2015-04-26 00:00:00+00:00</td>\n",
       "      <td>1</td>\n",
       "      <td>792</td>\n",
       "    </tr>\n",
       "    <tr>\n",
       "      <th>116</th>\n",
       "      <td>2015-04-27 00:00:00+00:00</td>\n",
       "      <td>1</td>\n",
       "      <td>779</td>\n",
       "    </tr>\n",
       "    <tr>\n",
       "      <th>117</th>\n",
       "      <td>2015-04-28 00:00:00+00:00</td>\n",
       "      <td>1</td>\n",
       "      <td>736</td>\n",
       "    </tr>\n",
       "    <tr>\n",
       "      <th>118</th>\n",
       "      <td>2015-04-29 00:00:00+00:00</td>\n",
       "      <td>0</td>\n",
       "      <td>713</td>\n",
       "    </tr>\n",
       "    <tr>\n",
       "      <th>119</th>\n",
       "      <td>2015-04-30 00:00:00+00:00</td>\n",
       "      <td>1</td>\n",
       "      <td>801</td>\n",
       "    </tr>\n",
       "  </tbody>\n",
       "</table>\n",
       "<p>120 rows × 3 columns</p>\n",
       "</div>"
      ],
      "text/plain": [
       "                         date  sum  count\n",
       "0   2015-01-01 00:00:00+00:00    6    712\n",
       "1   2015-01-02 00:00:00+00:00    5    721\n",
       "2   2015-01-03 00:00:00+00:00    7    760\n",
       "3   2015-01-04 00:00:00+00:00    7    713\n",
       "4   2015-01-05 00:00:00+00:00   11    754\n",
       "..                        ...  ...    ...\n",
       "115 2015-04-26 00:00:00+00:00    1    792\n",
       "116 2015-04-27 00:00:00+00:00    1    779\n",
       "117 2015-04-28 00:00:00+00:00    1    736\n",
       "118 2015-04-29 00:00:00+00:00    0    713\n",
       "119 2015-04-30 00:00:00+00:00    1    801\n",
       "\n",
       "[120 rows x 3 columns]"
      ]
     },
     "execution_count": 28,
     "metadata": {},
     "output_type": "execute_result"
    }
   ],
   "source": [
    "df_purchase"
   ]
  },
  {
   "cell_type": "code",
   "execution_count": 29,
   "id": "31843c30",
   "metadata": {},
   "outputs": [
    {
     "data": {
      "image/png": "[encoded data removed]",
      "text/plain": [
       "<Figure size 1080x576 with 2 Axes>"
      ]
     },
     "metadata": {
      "needs_background": "light"
     },
     "output_type": "display_data"
    }
   ],
   "source": [
    "fig,ax=plt.subplots(2,1,figsize=(15,8))\n",
    "ax[0].plot(df_purchase['date'],df_purchase['count'],color='b',linestyle='-',marker='o')\n",
    "ax[0].set_ylabel('count')\n",
    "ax[0].set_xlabel('date')\n",
    "ax[1].plot(df_purchase['date'],df_purchase['sum'],color='r',linestyle='-',marker='o')\n",
    "ax[1].set_ylabel('sum')\n",
    "ax[1].set_xlabel('date')\n",
    "fig.suptitle(f'Daily Payment Confirmations', fontsize=24)\n",
    "plt.show()"
   ]
  },
  {
   "cell_type": "markdown",
   "id": "a90c0623",
   "metadata": {},
   "source": [
    "### Sex"
   ]
  },
  {
   "cell_type": "code",
   "execution_count": 56,
   "id": "8681a141",
   "metadata": {},
   "outputs": [],
   "source": [
    "### group by sex\n",
    "sex_purchases = df.groupby(by=['date','sex']).agg({'payment_confirmation':['sum','count']})\n",
    "sex_purchases.columns = sex_purchases.columns.droplevel(level=1)\n",
    "sex_purchases.reset_index(inplace=True)\n",
    "sex_purchases.columns=['date','sex','sum','count']"
   ]
  },
  {
   "cell_type": "code",
   "execution_count": 57,
   "id": "08674bb0",
   "metadata": {},
   "outputs": [],
   "source": [
    "sex_pivot = pd.pivot_table(sex_purchases, values=['sum'], columns=['sex'], index=['date'])"
   ]
  },
  {
   "cell_type": "code",
   "execution_count": 58,
   "id": "82ff505d",
   "metadata": {
    "scrolled": true
   },
   "outputs": [],
   "source": [
    "sex_pivot.columns=sex_pivot.columns.droplevel(level=0)"
   ]
  },
  {
   "cell_type": "code",
   "execution_count": 59,
   "id": "c28a71fb",
   "metadata": {},
   "outputs": [],
   "source": [
    "sex_pivot=sex_pivot.reset_index()"
   ]
  },
  {
   "cell_type": "code",
   "execution_count": 60,
   "id": "cd6a98a2",
   "metadata": {},
   "outputs": [
    {
     "data": {
      "text/html": [
       "<div>\n",
       "<style scoped>\n",
       "    .dataframe tbody tr th:only-of-type {\n",
       "        vertical-align: middle;\n",
       "    }\n",
       "\n",
       "    .dataframe tbody tr th {\n",
       "        vertical-align: top;\n",
       "    }\n",
       "\n",
       "    .dataframe thead th {\n",
       "        text-align: right;\n",
       "    }\n",
       "</style>\n",
       "<table border=\"1\" class=\"dataframe\">\n",
       "  <thead>\n",
       "    <tr style=\"text-align: right;\">\n",
       "      <th>sex</th>\n",
       "      <th>date</th>\n",
       "      <th>Female</th>\n",
       "      <th>Male</th>\n",
       "    </tr>\n",
       "  </thead>\n",
       "  <tbody>\n",
       "    <tr>\n",
       "      <th>0</th>\n",
       "      <td>2015-01-01 00:00:00+00:00</td>\n",
       "      <td>3</td>\n",
       "      <td>3</td>\n",
       "    </tr>\n",
       "    <tr>\n",
       "      <th>1</th>\n",
       "      <td>2015-01-02 00:00:00+00:00</td>\n",
       "      <td>2</td>\n",
       "      <td>3</td>\n",
       "    </tr>\n",
       "    <tr>\n",
       "      <th>2</th>\n",
       "      <td>2015-01-03 00:00:00+00:00</td>\n",
       "      <td>3</td>\n",
       "      <td>4</td>\n",
       "    </tr>\n",
       "    <tr>\n",
       "      <th>3</th>\n",
       "      <td>2015-01-04 00:00:00+00:00</td>\n",
       "      <td>2</td>\n",
       "      <td>5</td>\n",
       "    </tr>\n",
       "    <tr>\n",
       "      <th>4</th>\n",
       "      <td>2015-01-05 00:00:00+00:00</td>\n",
       "      <td>6</td>\n",
       "      <td>5</td>\n",
       "    </tr>\n",
       "    <tr>\n",
       "      <th>...</th>\n",
       "      <td>...</td>\n",
       "      <td>...</td>\n",
       "      <td>...</td>\n",
       "    </tr>\n",
       "    <tr>\n",
       "      <th>115</th>\n",
       "      <td>2015-04-26 00:00:00+00:00</td>\n",
       "      <td>1</td>\n",
       "      <td>0</td>\n",
       "    </tr>\n",
       "    <tr>\n",
       "      <th>116</th>\n",
       "      <td>2015-04-27 00:00:00+00:00</td>\n",
       "      <td>1</td>\n",
       "      <td>0</td>\n",
       "    </tr>\n",
       "    <tr>\n",
       "      <th>117</th>\n",
       "      <td>2015-04-28 00:00:00+00:00</td>\n",
       "      <td>1</td>\n",
       "      <td>0</td>\n",
       "    </tr>\n",
       "    <tr>\n",
       "      <th>118</th>\n",
       "      <td>2015-04-29 00:00:00+00:00</td>\n",
       "      <td>0</td>\n",
       "      <td>0</td>\n",
       "    </tr>\n",
       "    <tr>\n",
       "      <th>119</th>\n",
       "      <td>2015-04-30 00:00:00+00:00</td>\n",
       "      <td>0</td>\n",
       "      <td>1</td>\n",
       "    </tr>\n",
       "  </tbody>\n",
       "</table>\n",
       "<p>120 rows × 3 columns</p>\n",
       "</div>"
      ],
      "text/plain": [
       "sex                      date  Female  Male\n",
       "0   2015-01-01 00:00:00+00:00       3     3\n",
       "1   2015-01-02 00:00:00+00:00       2     3\n",
       "2   2015-01-03 00:00:00+00:00       3     4\n",
       "3   2015-01-04 00:00:00+00:00       2     5\n",
       "4   2015-01-05 00:00:00+00:00       6     5\n",
       "..                        ...     ...   ...\n",
       "115 2015-04-26 00:00:00+00:00       1     0\n",
       "116 2015-04-27 00:00:00+00:00       1     0\n",
       "117 2015-04-28 00:00:00+00:00       1     0\n",
       "118 2015-04-29 00:00:00+00:00       0     0\n",
       "119 2015-04-30 00:00:00+00:00       0     1\n",
       "\n",
       "[120 rows x 3 columns]"
      ]
     },
     "execution_count": 60,
     "metadata": {},
     "output_type": "execute_result"
    }
   ],
   "source": [
    "sex_pivot"
   ]
  },
  {
   "cell_type": "markdown",
   "id": "51cd0989",
   "metadata": {},
   "source": [
    "### Devices"
   ]
  },
  {
   "cell_type": "code",
   "execution_count": 35,
   "id": "edf896df",
   "metadata": {},
   "outputs": [
    {
     "data": {
      "text/html": [
       "<div>\n",
       "<style scoped>\n",
       "    .dataframe tbody tr th:only-of-type {\n",
       "        vertical-align: middle;\n",
       "    }\n",
       "\n",
       "    .dataframe tbody tr th {\n",
       "        vertical-align: top;\n",
       "    }\n",
       "\n",
       "    .dataframe thead tr th {\n",
       "        text-align: left;\n",
       "    }\n",
       "\n",
       "    .dataframe thead tr:last-of-type th {\n",
       "        text-align: right;\n",
       "    }\n",
       "</style>\n",
       "<table border=\"1\" class=\"dataframe\">\n",
       "  <thead>\n",
       "    <tr>\n",
       "      <th></th>\n",
       "      <th></th>\n",
       "      <th colspan=\"2\" halign=\"left\">payment_confirmation</th>\n",
       "    </tr>\n",
       "    <tr>\n",
       "      <th></th>\n",
       "      <th></th>\n",
       "      <th>sum</th>\n",
       "      <th>count</th>\n",
       "    </tr>\n",
       "    <tr>\n",
       "      <th>date</th>\n",
       "      <th>device</th>\n",
       "      <th></th>\n",
       "      <th></th>\n",
       "    </tr>\n",
       "  </thead>\n",
       "  <tbody>\n",
       "    <tr>\n",
       "      <th rowspan=\"2\" valign=\"top\">2015-01-01 00:00:00+00:00</th>\n",
       "      <th>Desktop</th>\n",
       "      <td>1</td>\n",
       "      <td>493</td>\n",
       "    </tr>\n",
       "    <tr>\n",
       "      <th>Mobile</th>\n",
       "      <td>5</td>\n",
       "      <td>219</td>\n",
       "    </tr>\n",
       "    <tr>\n",
       "      <th rowspan=\"2\" valign=\"top\">2015-01-02 00:00:00+00:00</th>\n",
       "      <th>Desktop</th>\n",
       "      <td>1</td>\n",
       "      <td>484</td>\n",
       "    </tr>\n",
       "    <tr>\n",
       "      <th>Mobile</th>\n",
       "      <td>4</td>\n",
       "      <td>237</td>\n",
       "    </tr>\n",
       "    <tr>\n",
       "      <th>2015-01-03 00:00:00+00:00</th>\n",
       "      <th>Desktop</th>\n",
       "      <td>3</td>\n",
       "      <td>507</td>\n",
       "    </tr>\n",
       "    <tr>\n",
       "      <th>...</th>\n",
       "      <th>...</th>\n",
       "      <td>...</td>\n",
       "      <td>...</td>\n",
       "    </tr>\n",
       "    <tr>\n",
       "      <th>2015-04-28 00:00:00+00:00</th>\n",
       "      <th>Mobile</th>\n",
       "      <td>1</td>\n",
       "      <td>260</td>\n",
       "    </tr>\n",
       "    <tr>\n",
       "      <th rowspan=\"2\" valign=\"top\">2015-04-29 00:00:00+00:00</th>\n",
       "      <th>Desktop</th>\n",
       "      <td>0</td>\n",
       "      <td>453</td>\n",
       "    </tr>\n",
       "    <tr>\n",
       "      <th>Mobile</th>\n",
       "      <td>0</td>\n",
       "      <td>260</td>\n",
       "    </tr>\n",
       "    <tr>\n",
       "      <th rowspan=\"2\" valign=\"top\">2015-04-30 00:00:00+00:00</th>\n",
       "      <th>Desktop</th>\n",
       "      <td>0</td>\n",
       "      <td>538</td>\n",
       "    </tr>\n",
       "    <tr>\n",
       "      <th>Mobile</th>\n",
       "      <td>1</td>\n",
       "      <td>263</td>\n",
       "    </tr>\n",
       "  </tbody>\n",
       "</table>\n",
       "<p>240 rows × 2 columns</p>\n",
       "</div>"
      ],
      "text/plain": [
       "                                  payment_confirmation      \n",
       "                                                   sum count\n",
       "date                      device                            \n",
       "2015-01-01 00:00:00+00:00 Desktop                    1   493\n",
       "                          Mobile                     5   219\n",
       "2015-01-02 00:00:00+00:00 Desktop                    1   484\n",
       "                          Mobile                     4   237\n",
       "2015-01-03 00:00:00+00:00 Desktop                    3   507\n",
       "...                                                ...   ...\n",
       "2015-04-28 00:00:00+00:00 Mobile                     1   260\n",
       "2015-04-29 00:00:00+00:00 Desktop                    0   453\n",
       "                          Mobile                     0   260\n",
       "2015-04-30 00:00:00+00:00 Desktop                    0   538\n",
       "                          Mobile                     1   263\n",
       "\n",
       "[240 rows x 2 columns]"
      ]
     },
     "execution_count": 35,
     "metadata": {},
     "output_type": "execute_result"
    }
   ],
   "source": [
    "### group by sex\n",
    "device_purchases = df.groupby(by=['date','device']).agg({'payment_confirmation':['sum','count']})\n",
    "device_purchases"
   ]
  },
  {
   "cell_type": "code",
   "execution_count": 36,
   "id": "fb1893d3",
   "metadata": {},
   "outputs": [],
   "source": [
    "device_purchases.reset_index(inplace=True)"
   ]
  },
  {
   "cell_type": "code",
   "execution_count": 37,
   "id": "ad92d294",
   "metadata": {},
   "outputs": [],
   "source": [
    "device_purchases.columns=device_purchases.columns.droplevel(level=0)"
   ]
  },
  {
   "cell_type": "code",
   "execution_count": 38,
   "id": "a6c221ca",
   "metadata": {},
   "outputs": [],
   "source": [
    "device_purchases.columns=['date','device','sum','count']"
   ]
  },
  {
   "cell_type": "code",
   "execution_count": 39,
   "id": "4808157c",
   "metadata": {},
   "outputs": [],
   "source": [
    "device_pivot = pd.pivot_table(device_purchases, values=['count'], columns=['device'], index=['date'])"
   ]
  },
  {
   "cell_type": "code",
   "execution_count": 40,
   "id": "75ab12d0",
   "metadata": {
    "scrolled": true
   },
   "outputs": [
    {
     "data": {
      "text/html": [
       "<div>\n",
       "<style scoped>\n",
       "    .dataframe tbody tr th:only-of-type {\n",
       "        vertical-align: middle;\n",
       "    }\n",
       "\n",
       "    .dataframe tbody tr th {\n",
       "        vertical-align: top;\n",
       "    }\n",
       "\n",
       "    .dataframe thead tr th {\n",
       "        text-align: left;\n",
       "    }\n",
       "</style>\n",
       "<table border=\"1\" class=\"dataframe\">\n",
       "  <thead>\n",
       "    <tr>\n",
       "      <th></th>\n",
       "      <th>date</th>\n",
       "      <th colspan=\"2\" halign=\"left\">count</th>\n",
       "    </tr>\n",
       "    <tr>\n",
       "      <th>device</th>\n",
       "      <th></th>\n",
       "      <th>Desktop</th>\n",
       "      <th>Mobile</th>\n",
       "    </tr>\n",
       "  </thead>\n",
       "  <tbody>\n",
       "    <tr>\n",
       "      <th>0</th>\n",
       "      <td>2015-01-01 00:00:00+00:00</td>\n",
       "      <td>493</td>\n",
       "      <td>219</td>\n",
       "    </tr>\n",
       "    <tr>\n",
       "      <th>1</th>\n",
       "      <td>2015-01-02 00:00:00+00:00</td>\n",
       "      <td>484</td>\n",
       "      <td>237</td>\n",
       "    </tr>\n",
       "    <tr>\n",
       "      <th>2</th>\n",
       "      <td>2015-01-03 00:00:00+00:00</td>\n",
       "      <td>507</td>\n",
       "      <td>253</td>\n",
       "    </tr>\n",
       "    <tr>\n",
       "      <th>3</th>\n",
       "      <td>2015-01-04 00:00:00+00:00</td>\n",
       "      <td>474</td>\n",
       "      <td>239</td>\n",
       "    </tr>\n",
       "    <tr>\n",
       "      <th>4</th>\n",
       "      <td>2015-01-05 00:00:00+00:00</td>\n",
       "      <td>483</td>\n",
       "      <td>271</td>\n",
       "    </tr>\n",
       "    <tr>\n",
       "      <th>...</th>\n",
       "      <td>...</td>\n",
       "      <td>...</td>\n",
       "      <td>...</td>\n",
       "    </tr>\n",
       "    <tr>\n",
       "      <th>115</th>\n",
       "      <td>2015-04-26 00:00:00+00:00</td>\n",
       "      <td>529</td>\n",
       "      <td>263</td>\n",
       "    </tr>\n",
       "    <tr>\n",
       "      <th>116</th>\n",
       "      <td>2015-04-27 00:00:00+00:00</td>\n",
       "      <td>509</td>\n",
       "      <td>270</td>\n",
       "    </tr>\n",
       "    <tr>\n",
       "      <th>117</th>\n",
       "      <td>2015-04-28 00:00:00+00:00</td>\n",
       "      <td>476</td>\n",
       "      <td>260</td>\n",
       "    </tr>\n",
       "    <tr>\n",
       "      <th>118</th>\n",
       "      <td>2015-04-29 00:00:00+00:00</td>\n",
       "      <td>453</td>\n",
       "      <td>260</td>\n",
       "    </tr>\n",
       "    <tr>\n",
       "      <th>119</th>\n",
       "      <td>2015-04-30 00:00:00+00:00</td>\n",
       "      <td>538</td>\n",
       "      <td>263</td>\n",
       "    </tr>\n",
       "  </tbody>\n",
       "</table>\n",
       "<p>120 rows × 3 columns</p>\n",
       "</div>"
      ],
      "text/plain": [
       "                            date   count       \n",
       "device                           Desktop Mobile\n",
       "0      2015-01-01 00:00:00+00:00     493    219\n",
       "1      2015-01-02 00:00:00+00:00     484    237\n",
       "2      2015-01-03 00:00:00+00:00     507    253\n",
       "3      2015-01-04 00:00:00+00:00     474    239\n",
       "4      2015-01-05 00:00:00+00:00     483    271\n",
       "..                           ...     ...    ...\n",
       "115    2015-04-26 00:00:00+00:00     529    263\n",
       "116    2015-04-27 00:00:00+00:00     509    270\n",
       "117    2015-04-28 00:00:00+00:00     476    260\n",
       "118    2015-04-29 00:00:00+00:00     453    260\n",
       "119    2015-04-30 00:00:00+00:00     538    263\n",
       "\n",
       "[120 rows x 3 columns]"
      ]
     },
     "execution_count": 40,
     "metadata": {},
     "output_type": "execute_result"
    }
   ],
   "source": [
    "device_pivot.reset_index()"
   ]
  },
  {
   "cell_type": "code",
   "execution_count": 41,
   "id": "dd2efab7",
   "metadata": {},
   "outputs": [],
   "source": [
    "device_pivot.columns=device_pivot.columns.droplevel(level=0)"
   ]
  },
  {
   "cell_type": "code",
   "execution_count": 42,
   "id": "20af09d3",
   "metadata": {},
   "outputs": [],
   "source": [
    "device_pivot=device_pivot.reset_index()"
   ]
  },
  {
   "cell_type": "code",
   "execution_count": 69,
   "id": "9d780d29",
   "metadata": {},
   "outputs": [
    {
     "data": {
      "text/html": [
       "<div>\n",
       "<style scoped>\n",
       "    .dataframe tbody tr th:only-of-type {\n",
       "        vertical-align: middle;\n",
       "    }\n",
       "\n",
       "    .dataframe tbody tr th {\n",
       "        vertical-align: top;\n",
       "    }\n",
       "\n",
       "    .dataframe thead th {\n",
       "        text-align: right;\n",
       "    }\n",
       "</style>\n",
       "<table border=\"1\" class=\"dataframe\">\n",
       "  <thead>\n",
       "    <tr style=\"text-align: right;\">\n",
       "      <th>sex</th>\n",
       "      <th>date</th>\n",
       "      <th>Female</th>\n",
       "      <th>Male</th>\n",
       "    </tr>\n",
       "  </thead>\n",
       "  <tbody>\n",
       "    <tr>\n",
       "      <th>0</th>\n",
       "      <td>2015-01-01 00:00:00+00:00</td>\n",
       "      <td>3</td>\n",
       "      <td>3</td>\n",
       "    </tr>\n",
       "    <tr>\n",
       "      <th>1</th>\n",
       "      <td>2015-01-02 00:00:00+00:00</td>\n",
       "      <td>2</td>\n",
       "      <td>3</td>\n",
       "    </tr>\n",
       "    <tr>\n",
       "      <th>2</th>\n",
       "      <td>2015-01-03 00:00:00+00:00</td>\n",
       "      <td>3</td>\n",
       "      <td>4</td>\n",
       "    </tr>\n",
       "    <tr>\n",
       "      <th>3</th>\n",
       "      <td>2015-01-04 00:00:00+00:00</td>\n",
       "      <td>2</td>\n",
       "      <td>5</td>\n",
       "    </tr>\n",
       "    <tr>\n",
       "      <th>4</th>\n",
       "      <td>2015-01-05 00:00:00+00:00</td>\n",
       "      <td>6</td>\n",
       "      <td>5</td>\n",
       "    </tr>\n",
       "    <tr>\n",
       "      <th>...</th>\n",
       "      <td>...</td>\n",
       "      <td>...</td>\n",
       "      <td>...</td>\n",
       "    </tr>\n",
       "    <tr>\n",
       "      <th>115</th>\n",
       "      <td>2015-04-26 00:00:00+00:00</td>\n",
       "      <td>1</td>\n",
       "      <td>0</td>\n",
       "    </tr>\n",
       "    <tr>\n",
       "      <th>116</th>\n",
       "      <td>2015-04-27 00:00:00+00:00</td>\n",
       "      <td>1</td>\n",
       "      <td>0</td>\n",
       "    </tr>\n",
       "    <tr>\n",
       "      <th>117</th>\n",
       "      <td>2015-04-28 00:00:00+00:00</td>\n",
       "      <td>1</td>\n",
       "      <td>0</td>\n",
       "    </tr>\n",
       "    <tr>\n",
       "      <th>118</th>\n",
       "      <td>2015-04-29 00:00:00+00:00</td>\n",
       "      <td>0</td>\n",
       "      <td>0</td>\n",
       "    </tr>\n",
       "    <tr>\n",
       "      <th>119</th>\n",
       "      <td>2015-04-30 00:00:00+00:00</td>\n",
       "      <td>0</td>\n",
       "      <td>1</td>\n",
       "    </tr>\n",
       "  </tbody>\n",
       "</table>\n",
       "<p>120 rows × 3 columns</p>\n",
       "</div>"
      ],
      "text/plain": [
       "sex                      date  Female  Male\n",
       "0   2015-01-01 00:00:00+00:00       3     3\n",
       "1   2015-01-02 00:00:00+00:00       2     3\n",
       "2   2015-01-03 00:00:00+00:00       3     4\n",
       "3   2015-01-04 00:00:00+00:00       2     5\n",
       "4   2015-01-05 00:00:00+00:00       6     5\n",
       "..                        ...     ...   ...\n",
       "115 2015-04-26 00:00:00+00:00       1     0\n",
       "116 2015-04-27 00:00:00+00:00       1     0\n",
       "117 2015-04-28 00:00:00+00:00       1     0\n",
       "118 2015-04-29 00:00:00+00:00       0     0\n",
       "119 2015-04-30 00:00:00+00:00       0     1\n",
       "\n",
       "[120 rows x 3 columns]"
      ]
     },
     "execution_count": 69,
     "metadata": {},
     "output_type": "execute_result"
    }
   ],
   "source": [
    "sex_pivot"
   ]
  },
  {
   "cell_type": "code",
   "execution_count": 72,
   "id": "b5b7cd47",
   "metadata": {
    "scrolled": true
   },
   "outputs": [
    {
     "data": {
      "text/plain": [
       "<Figure size 432x288 with 0 Axes>"
      ]
     },
     "metadata": {},
     "output_type": "display_data"
    },
    {
     "data": {
      "image/png": "[encoded data removed]",
      "text/plain": [
       "<Figure size 864x576 with 2 Axes>"
      ]
     },
     "metadata": {
      "needs_background": "light"
     },
     "output_type": "display_data"
    }
   ],
   "source": [
    "plt.set_cmap('jet')\n",
    "fig,ax=plt.subplots(2,1,figsize=(12,8))\n",
    "ax[0].plot(sex_pivot['date'],sex_pivot[['Female','Male']],marker='o')\n",
    "ax[0].set_ylabel('gender')\n",
    "ax[0].set_xlabel('date')\n",
    "ax[1].plot(device_pivot['date'],device_pivot[['Desktop','Mobile']],linestyle='-',marker='o')\n",
    "ax[1].set_ylabel('device')\n",
    "ax[1].set_xlabel('date')\n",
    "fig.suptitle(f'Gender& Device Daily Payment Confirmations', fontsize=24)\n",
    "plt.show()"
   ]
  },
  {
   "cell_type": "markdown",
   "id": "e98bbcea",
   "metadata": {},
   "source": [
    "## Initial A/B testing\n",
    "### Resonse variable\n",
    "- Conversion rate\n",
    " - time frame: one day\n",
    " - Definition: #of payment confirmation/ # of home page\n",
    " - importance: strong measure of growth"
   ]
  },
  {
   "cell_type": "code",
   "execution_count": 73,
   "id": "924f78ee",
   "metadata": {
    "scrolled": true
   },
   "outputs": [
    {
     "name": "stdout",
     "output_type": "stream",
     "text": [
      "daily purchases= 3766.67\n",
      "daily views= 753333.33\n"
     ]
    }
   ],
   "source": [
    "df_purchases=round(df_purchase['sum'].mean()*1000,2)\n",
    "df_views=round(df_purchase['count'].mean()*1000,2)\n",
    "print('daily purchases=', df_purchases)\n",
    "print('daily views=', df_views)"
   ]
  },
  {
   "cell_type": "code",
   "execution_count": 74,
   "id": "3b314957",
   "metadata": {},
   "outputs": [
    {
     "data": {
      "text/html": [
       "<div>\n",
       "<style scoped>\n",
       "    .dataframe tbody tr th:only-of-type {\n",
       "        vertical-align: middle;\n",
       "    }\n",
       "\n",
       "    .dataframe tbody tr th {\n",
       "        vertical-align: top;\n",
       "    }\n",
       "\n",
       "    .dataframe thead th {\n",
       "        text-align: right;\n",
       "    }\n",
       "</style>\n",
       "<table border=\"1\" class=\"dataframe\">\n",
       "  <thead>\n",
       "    <tr style=\"text-align: right;\">\n",
       "      <th></th>\n",
       "      <th>date</th>\n",
       "      <th>sum</th>\n",
       "      <th>count</th>\n",
       "    </tr>\n",
       "  </thead>\n",
       "  <tbody>\n",
       "    <tr>\n",
       "      <th>0</th>\n",
       "      <td>2015-01-01 00:00:00+00:00</td>\n",
       "      <td>6</td>\n",
       "      <td>712</td>\n",
       "    </tr>\n",
       "    <tr>\n",
       "      <th>1</th>\n",
       "      <td>2015-01-02 00:00:00+00:00</td>\n",
       "      <td>5</td>\n",
       "      <td>721</td>\n",
       "    </tr>\n",
       "    <tr>\n",
       "      <th>2</th>\n",
       "      <td>2015-01-03 00:00:00+00:00</td>\n",
       "      <td>7</td>\n",
       "      <td>760</td>\n",
       "    </tr>\n",
       "    <tr>\n",
       "      <th>3</th>\n",
       "      <td>2015-01-04 00:00:00+00:00</td>\n",
       "      <td>7</td>\n",
       "      <td>713</td>\n",
       "    </tr>\n",
       "    <tr>\n",
       "      <th>4</th>\n",
       "      <td>2015-01-05 00:00:00+00:00</td>\n",
       "      <td>11</td>\n",
       "      <td>754</td>\n",
       "    </tr>\n",
       "    <tr>\n",
       "      <th>...</th>\n",
       "      <td>...</td>\n",
       "      <td>...</td>\n",
       "      <td>...</td>\n",
       "    </tr>\n",
       "    <tr>\n",
       "      <th>115</th>\n",
       "      <td>2015-04-26 00:00:00+00:00</td>\n",
       "      <td>1</td>\n",
       "      <td>792</td>\n",
       "    </tr>\n",
       "    <tr>\n",
       "      <th>116</th>\n",
       "      <td>2015-04-27 00:00:00+00:00</td>\n",
       "      <td>1</td>\n",
       "      <td>779</td>\n",
       "    </tr>\n",
       "    <tr>\n",
       "      <th>117</th>\n",
       "      <td>2015-04-28 00:00:00+00:00</td>\n",
       "      <td>1</td>\n",
       "      <td>736</td>\n",
       "    </tr>\n",
       "    <tr>\n",
       "      <th>118</th>\n",
       "      <td>2015-04-29 00:00:00+00:00</td>\n",
       "      <td>0</td>\n",
       "      <td>713</td>\n",
       "    </tr>\n",
       "    <tr>\n",
       "      <th>119</th>\n",
       "      <td>2015-04-30 00:00:00+00:00</td>\n",
       "      <td>1</td>\n",
       "      <td>801</td>\n",
       "    </tr>\n",
       "  </tbody>\n",
       "</table>\n",
       "<p>120 rows × 3 columns</p>\n",
       "</div>"
      ],
      "text/plain": [
       "                         date  sum  count\n",
       "0   2015-01-01 00:00:00+00:00    6    712\n",
       "1   2015-01-02 00:00:00+00:00    5    721\n",
       "2   2015-01-03 00:00:00+00:00    7    760\n",
       "3   2015-01-04 00:00:00+00:00    7    713\n",
       "4   2015-01-05 00:00:00+00:00   11    754\n",
       "..                        ...  ...    ...\n",
       "115 2015-04-26 00:00:00+00:00    1    792\n",
       "116 2015-04-27 00:00:00+00:00    1    779\n",
       "117 2015-04-28 00:00:00+00:00    1    736\n",
       "118 2015-04-29 00:00:00+00:00    0    713\n",
       "119 2015-04-30 00:00:00+00:00    1    801\n",
       "\n",
       "[120 rows x 3 columns]"
      ]
     },
     "execution_count": 74,
     "metadata": {},
     "output_type": "execute_result"
    }
   ],
   "source": [
    "df_purchase"
   ]
  },
  {
   "cell_type": "markdown",
   "id": "2797b026",
   "metadata": {},
   "source": [
    "### Test sensitivity"
   ]
  },
  {
   "cell_type": "code",
   "execution_count": 206,
   "id": "c585365c",
   "metadata": {
    "scrolled": true
   },
   "outputs": [
    {
     "data": {
      "text/html": [
       "<div>\n",
       "<style scoped>\n",
       "    .dataframe tbody tr th:only-of-type {\n",
       "        vertical-align: middle;\n",
       "    }\n",
       "\n",
       "    .dataframe tbody tr th {\n",
       "        vertical-align: top;\n",
       "    }\n",
       "\n",
       "    .dataframe thead th {\n",
       "        text-align: right;\n",
       "    }\n",
       "</style>\n",
       "<table border=\"1\" class=\"dataframe\">\n",
       "  <thead>\n",
       "    <tr style=\"text-align: right;\">\n",
       "      <th></th>\n",
       "      <th>user_id</th>\n",
       "      <th>date</th>\n",
       "      <th>device</th>\n",
       "      <th>sex</th>\n",
       "      <th>group</th>\n",
       "      <th>home_page</th>\n",
       "      <th>search_page</th>\n",
       "      <th>payment_page</th>\n",
       "      <th>payment_confirmation</th>\n",
       "    </tr>\n",
       "  </thead>\n",
       "  <tbody>\n",
       "    <tr>\n",
       "      <th>0</th>\n",
       "      <td>450007</td>\n",
       "      <td>2015-02-28 00:00:00+00:00</td>\n",
       "      <td>Desktop</td>\n",
       "      <td>Female</td>\n",
       "      <td>test</td>\n",
       "      <td>1</td>\n",
       "      <td>0</td>\n",
       "      <td>0</td>\n",
       "      <td>0</td>\n",
       "    </tr>\n",
       "    <tr>\n",
       "      <th>1</th>\n",
       "      <td>756838</td>\n",
       "      <td>2015-01-13 00:00:00+00:00</td>\n",
       "      <td>Desktop</td>\n",
       "      <td>Male</td>\n",
       "      <td>control</td>\n",
       "      <td>1</td>\n",
       "      <td>0</td>\n",
       "      <td>0</td>\n",
       "      <td>0</td>\n",
       "    </tr>\n",
       "    <tr>\n",
       "      <th>2</th>\n",
       "      <td>568983</td>\n",
       "      <td>2015-04-09 00:00:00+00:00</td>\n",
       "      <td>Desktop</td>\n",
       "      <td>Male</td>\n",
       "      <td>test</td>\n",
       "      <td>1</td>\n",
       "      <td>1</td>\n",
       "      <td>0</td>\n",
       "      <td>0</td>\n",
       "    </tr>\n",
       "    <tr>\n",
       "      <th>3</th>\n",
       "      <td>190794</td>\n",
       "      <td>2015-02-18 00:00:00+00:00</td>\n",
       "      <td>Desktop</td>\n",
       "      <td>Female</td>\n",
       "      <td>test</td>\n",
       "      <td>1</td>\n",
       "      <td>1</td>\n",
       "      <td>0</td>\n",
       "      <td>0</td>\n",
       "    </tr>\n",
       "    <tr>\n",
       "      <th>4</th>\n",
       "      <td>537909</td>\n",
       "      <td>2015-01-15 00:00:00+00:00</td>\n",
       "      <td>Desktop</td>\n",
       "      <td>Male</td>\n",
       "      <td>test</td>\n",
       "      <td>1</td>\n",
       "      <td>0</td>\n",
       "      <td>0</td>\n",
       "      <td>0</td>\n",
       "    </tr>\n",
       "    <tr>\n",
       "      <th>...</th>\n",
       "      <td>...</td>\n",
       "      <td>...</td>\n",
       "      <td>...</td>\n",
       "      <td>...</td>\n",
       "      <td>...</td>\n",
       "      <td>...</td>\n",
       "      <td>...</td>\n",
       "      <td>...</td>\n",
       "      <td>...</td>\n",
       "    </tr>\n",
       "    <tr>\n",
       "      <th>90395</th>\n",
       "      <td>307667</td>\n",
       "      <td>2015-03-30 00:00:00+00:00</td>\n",
       "      <td>Desktop</td>\n",
       "      <td>Female</td>\n",
       "      <td>test</td>\n",
       "      <td>1</td>\n",
       "      <td>0</td>\n",
       "      <td>0</td>\n",
       "      <td>0</td>\n",
       "    </tr>\n",
       "    <tr>\n",
       "      <th>90396</th>\n",
       "      <td>642989</td>\n",
       "      <td>2015-02-08 00:00:00+00:00</td>\n",
       "      <td>Desktop</td>\n",
       "      <td>Female</td>\n",
       "      <td>test</td>\n",
       "      <td>1</td>\n",
       "      <td>1</td>\n",
       "      <td>0</td>\n",
       "      <td>0</td>\n",
       "    </tr>\n",
       "    <tr>\n",
       "      <th>90397</th>\n",
       "      <td>659645</td>\n",
       "      <td>2015-04-13 00:00:00+00:00</td>\n",
       "      <td>Desktop</td>\n",
       "      <td>Male</td>\n",
       "      <td>control</td>\n",
       "      <td>1</td>\n",
       "      <td>1</td>\n",
       "      <td>0</td>\n",
       "      <td>0</td>\n",
       "    </tr>\n",
       "    <tr>\n",
       "      <th>90398</th>\n",
       "      <td>359779</td>\n",
       "      <td>2015-03-23 00:00:00+00:00</td>\n",
       "      <td>Desktop</td>\n",
       "      <td>Male</td>\n",
       "      <td>test</td>\n",
       "      <td>1</td>\n",
       "      <td>0</td>\n",
       "      <td>0</td>\n",
       "      <td>0</td>\n",
       "    </tr>\n",
       "    <tr>\n",
       "      <th>90399</th>\n",
       "      <td>438929</td>\n",
       "      <td>2015-03-26 00:00:00+00:00</td>\n",
       "      <td>Mobile</td>\n",
       "      <td>Female</td>\n",
       "      <td>control</td>\n",
       "      <td>1</td>\n",
       "      <td>0</td>\n",
       "      <td>0</td>\n",
       "      <td>0</td>\n",
       "    </tr>\n",
       "  </tbody>\n",
       "</table>\n",
       "<p>90400 rows × 9 columns</p>\n",
       "</div>"
      ],
      "text/plain": [
       "       user_id                      date   device     sex    group  home_page  \\\n",
       "0       450007 2015-02-28 00:00:00+00:00  Desktop  Female     test          1   \n",
       "1       756838 2015-01-13 00:00:00+00:00  Desktop    Male  control          1   \n",
       "2       568983 2015-04-09 00:00:00+00:00  Desktop    Male     test          1   \n",
       "3       190794 2015-02-18 00:00:00+00:00  Desktop  Female     test          1   \n",
       "4       537909 2015-01-15 00:00:00+00:00  Desktop    Male     test          1   \n",
       "...        ...                       ...      ...     ...      ...        ...   \n",
       "90395   307667 2015-03-30 00:00:00+00:00  Desktop  Female     test          1   \n",
       "90396   642989 2015-02-08 00:00:00+00:00  Desktop  Female     test          1   \n",
       "90397   659645 2015-04-13 00:00:00+00:00  Desktop    Male  control          1   \n",
       "90398   359779 2015-03-23 00:00:00+00:00  Desktop    Male     test          1   \n",
       "90399   438929 2015-03-26 00:00:00+00:00   Mobile  Female  control          1   \n",
       "\n",
       "       search_page  payment_page  payment_confirmation  \n",
       "0                0             0                     0  \n",
       "1                0             0                     0  \n",
       "2                1             0                     0  \n",
       "3                1             0                     0  \n",
       "4                0             0                     0  \n",
       "...            ...           ...                   ...  \n",
       "90395            0             0                     0  \n",
       "90396            1             0                     0  \n",
       "90397            1             0                     0  \n",
       "90398            0             0                     0  \n",
       "90399            0             0                     0  \n",
       "\n",
       "[90400 rows x 9 columns]"
      ]
     },
     "execution_count": 206,
     "metadata": {},
     "output_type": "execute_result"
    }
   ],
   "source": [
    "df"
   ]
  },
  {
   "cell_type": "code",
   "execution_count": 76,
   "id": "5aea14ed",
   "metadata": {},
   "outputs": [
    {
     "data": {
      "text/plain": [
       "0    89948\n",
       "1      452\n",
       "Name: payment_confirmation, dtype: int64"
      ]
     },
     "execution_count": 76,
     "metadata": {},
     "output_type": "execute_result"
    }
   ],
   "source": [
    "df['payment_confirmation'].value_counts()"
   ]
  },
  {
   "cell_type": "code",
   "execution_count": 77,
   "id": "8b73218e",
   "metadata": {},
   "outputs": [
    {
     "data": {
      "text/plain": [
       "452"
      ]
     },
     "execution_count": 77,
     "metadata": {},
     "output_type": "execute_result"
    }
   ],
   "source": [
    "total_subs_count=np.sum(df['payment_confirmation'])\n",
    "total_subs_count"
   ]
  },
  {
   "cell_type": "code",
   "execution_count": 78,
   "id": "2b725436",
   "metadata": {},
   "outputs": [
    {
     "data": {
      "text/plain": [
       "90400"
      ]
     },
     "execution_count": 78,
     "metadata": {},
     "output_type": "execute_result"
    }
   ],
   "source": [
    "users_count=len(df['user_id'].unique())\n",
    "users_count"
   ]
  },
  {
   "cell_type": "code",
   "execution_count": 89,
   "id": "313889ef",
   "metadata": {},
   "outputs": [
    {
     "name": "stdout",
     "output_type": "stream",
     "text": [
      "conversion_rate:0.5%\n",
      "std: 0.07\n"
     ]
    }
   ],
   "source": [
    "conversion_rate=round(total_subs_count/users_count*100,2)\n",
    "std=round(df['payment_confirmation'].std(),2)\n",
    "print('conversion_rate:%s%%'%(conversion_rate))\n",
    "print('std:',std)"
   ]
  },
  {
   "cell_type": "code",
   "execution_count": 100,
   "id": "f41fe170",
   "metadata": {},
   "outputs": [
    {
     "name": "stdout",
     "output_type": "stream",
     "text": [
      "small_conversion_rate: 0.55%\n",
      "small_purchases: 4143.33\n",
      "purchase_lift: 376.66\n"
     ]
    }
   ],
   "source": [
    "##small_sensitivity\n",
    "small_sensitivity=0.1\n",
    "small_conversion_rate=(conversion_rate/100)*(1+small_sensitivity)\n",
    "small_purchases=df_views*small_conversion_rate\n",
    "purchase_lift=small_purchases-df_purchases\n",
    "\n",
    "print('small_conversion_rate: %s%%' %(small_conversion_rate*100))\n",
    "print('small_purchases: %s' %(round(small_purchases,2)))\n",
    "print('purchase_lift: %s' %(round(purchase_lift,2)))"
   ]
  },
  {
   "cell_type": "code",
   "execution_count": 99,
   "id": "7ce8f6c4",
   "metadata": {},
   "outputs": [
    {
     "name": "stdout",
     "output_type": "stream",
     "text": [
      "medium_conversion_rate: 0.6%\n",
      "medium_purchases: 4520.0\n",
      "purchase_lift: 753.33\n"
     ]
    }
   ],
   "source": [
    "##medium_sensitivity\n",
    "medium_sensitivity=0.2\n",
    "medium_conversion_rate=(conversion_rate/100)*(1+medium_sensitivity)\n",
    "medium_purchases=df_views*medium_conversion_rate\n",
    "purchase_lift=medium_purchases-df_purchases\n",
    "\n",
    "print('medium_conversion_rate: %s%%' %(medium_conversion_rate*100))\n",
    "print('medium_purchases: %s' %(round(medium_purchases,2)))\n",
    "print('purchase_lift: %s' %(round(purchase_lift,2)))"
   ]
  },
  {
   "cell_type": "code",
   "execution_count": 98,
   "id": "cb10d918",
   "metadata": {
    "scrolled": true
   },
   "outputs": [
    {
     "name": "stdout",
     "output_type": "stream",
     "text": [
      "medium_conversion_rate: 0.75%\n",
      "medium_purchases: 5650.0\n",
      "purchase_lift: 1883.33\n"
     ]
    }
   ],
   "source": [
    "##large_sensitivity\n",
    "large_sensitivity=0.5\n",
    "large_conversion_rate=(conversion_rate/100)*(1+large_sensitivity)\n",
    "large_purchases=df_views*large_conversion_rate\n",
    "purchase_lift=large_purchases-df_purchases\n",
    "\n",
    "print('medium_conversion_rate: %s%%' %(large_conversion_rate*100))\n",
    "print('medium_purchases: %s' %(round(large_purchases,2)))\n",
    "print('purchase_lift: %s' %(round(purchase_lift,2)))"
   ]
  },
  {
   "cell_type": "markdown",
   "id": "1b528d55",
   "metadata": {},
   "source": [
    "We choose the sensitivity to 0.6%"
   ]
  },
  {
   "cell_type": "markdown",
   "id": "fe63bee0",
   "metadata": {},
   "source": [
    "### Sample Size"
   ]
  },
  {
   "cell_type": "code",
   "execution_count": 101,
   "id": "cdea10be",
   "metadata": {
    "scrolled": true
   },
   "outputs": [
    {
     "data": {
      "text/plain": [
       "0.005"
      ]
     },
     "execution_count": 101,
     "metadata": {},
     "output_type": "execute_result"
    }
   ],
   "source": [
    "purchase_mean=df['payment_confirmation'].mean()\n",
    "purchase_std=df['payment_confirmation'].std()"
   ]
  },
  {
   "cell_type": "code",
   "execution_count": 105,
   "id": "1d6162a6",
   "metadata": {},
   "outputs": [
    {
     "name": "stdout",
     "output_type": "stream",
     "text": [
      "44810 45590\n",
      "1.0174068288328497\n"
     ]
    }
   ],
   "source": [
    "test_n=len(df[df['group']=='test'])\n",
    "control_n=len(df[df['group']=='control'])\n",
    "print(test_n,control_n)\n",
    "sizes=[test_n,control_n]\n",
    "ratio=max(sizes)/min(sizes)\n",
    "print(ratio)"
   ]
  },
  {
   "cell_type": "code",
   "execution_count": 106,
   "id": "bb109e6a",
   "metadata": {},
   "outputs": [],
   "source": [
    "## Sensitivity 0.6%, power=0.8, significance level 0.05\n",
    "effect_size=(0.006-purchase_mean)/purchase_std\n",
    "power=0.8\n",
    "alpha=0.05"
   ]
  },
  {
   "cell_type": "code",
   "execution_count": 118,
   "id": "46053730",
   "metadata": {},
   "outputs": [
    {
     "name": "stdout",
     "output_type": "stream",
     "text": [
      "Sample Size: 77430\n"
     ]
    }
   ],
   "source": [
    "from statsmodels.stats import power as pwr\n",
    "analysis=pwr.TTestIndPower()\n",
    "ssresult=analysis.solve_power(effect_size=effect_size,\n",
    "                              power=power,\n",
    "                              nobs1=None,\n",
    "                              alpha=alpha,\n",
    "                              ratio=ratio)\n",
    "print('Sample Size:',round(ssresult))"
   ]
  },
  {
   "cell_type": "markdown",
   "id": "216aa50c",
   "metadata": {},
   "source": [
    "### Effect Size"
   ]
  },
  {
   "cell_type": "code",
   "execution_count": 119,
   "id": "93611a2a",
   "metadata": {},
   "outputs": [
    {
     "name": "stdout",
     "output_type": "stream",
     "text": [
      "effect Size: 0.01\n"
     ]
    }
   ],
   "source": [
    "sample_size=round(ssresult)\n",
    "analysis=pwr.TTestIndPower()\n",
    "esresult=analysis.solve_power(effect_size=None,\n",
    "                              power=power,\n",
    "                              nobs1=sample_size,\n",
    "                              alpha=alpha,\n",
    "                              ratio=ratio)\n",
    "print('effect Size:',round(esresult,2))"
   ]
  },
  {
   "cell_type": "markdown",
   "id": "5491c3e4",
   "metadata": {},
   "source": [
    "### Statistical Power"
   ]
  },
  {
   "cell_type": "code",
   "execution_count": 122,
   "id": "0b2168ff",
   "metadata": {},
   "outputs": [
    {
     "name": "stdout",
     "output_type": "stream",
     "text": [
      "Power: 0.8\n"
     ]
    }
   ],
   "source": [
    "effect_size=esresult\n",
    "analysis=pwr.TTestIndPower()\n",
    "pwresult=analysis.solve_power(effect_size=effect_size,\n",
    "                              power=None,\n",
    "                              nobs1=sample_size,\n",
    "                              alpha=alpha,\n",
    "                              ratio=ratio)\n",
    "print('Power:',round(pwresult,3))"
   ]
  },
  {
   "cell_type": "markdown",
   "id": "b54c13a0",
   "metadata": {},
   "source": [
    "## Analyzing the A/B testing"
   ]
  },
  {
   "cell_type": "code",
   "execution_count": 137,
   "id": "8c8a11aa",
   "metadata": {},
   "outputs": [
    {
     "name": "stdout",
     "output_type": "stream",
     "text": [
      "         user_id\n",
      "group           \n",
      "control    45590\n",
      "test       44810\n"
     ]
    }
   ],
   "source": [
    "results=df.groupby(by=['group']).agg({'user_id':pd.Series.nunique})\n",
    "print(results)"
   ]
  },
  {
   "cell_type": "code",
   "execution_count": 138,
   "id": "2506aae8",
   "metadata": {},
   "outputs": [],
   "source": [
    "results=pd.DataFrame(results)"
   ]
  },
  {
   "cell_type": "code",
   "execution_count": 139,
   "id": "5ed6fe23",
   "metadata": {},
   "outputs": [],
   "source": [
    "results['unique_users']=len(df.user_id.unique())"
   ]
  },
  {
   "cell_type": "code",
   "execution_count": 146,
   "id": "41429d62",
   "metadata": {},
   "outputs": [],
   "source": [
    "results['percentage']=round(results['user_id']/results['unique_users']*100,2)"
   ]
  },
  {
   "cell_type": "code",
   "execution_count": 147,
   "id": "7d36410e",
   "metadata": {},
   "outputs": [
    {
     "data": {
      "text/html": [
       "<div>\n",
       "<style scoped>\n",
       "    .dataframe tbody tr th:only-of-type {\n",
       "        vertical-align: middle;\n",
       "    }\n",
       "\n",
       "    .dataframe tbody tr th {\n",
       "        vertical-align: top;\n",
       "    }\n",
       "\n",
       "    .dataframe thead th {\n",
       "        text-align: right;\n",
       "    }\n",
       "</style>\n",
       "<table border=\"1\" class=\"dataframe\">\n",
       "  <thead>\n",
       "    <tr style=\"text-align: right;\">\n",
       "      <th></th>\n",
       "      <th>user_id</th>\n",
       "      <th>unique_users</th>\n",
       "      <th>percentage</th>\n",
       "    </tr>\n",
       "    <tr>\n",
       "      <th>group</th>\n",
       "      <th></th>\n",
       "      <th></th>\n",
       "      <th></th>\n",
       "    </tr>\n",
       "  </thead>\n",
       "  <tbody>\n",
       "    <tr>\n",
       "      <th>control</th>\n",
       "      <td>45590</td>\n",
       "      <td>90400</td>\n",
       "      <td>50.43</td>\n",
       "    </tr>\n",
       "    <tr>\n",
       "      <th>test</th>\n",
       "      <td>44810</td>\n",
       "      <td>90400</td>\n",
       "      <td>49.57</td>\n",
       "    </tr>\n",
       "  </tbody>\n",
       "</table>\n",
       "</div>"
      ],
      "text/plain": [
       "         user_id  unique_users  percentage\n",
       "group                                     \n",
       "control    45590         90400       50.43\n",
       "test       44810         90400       49.57"
      ]
     },
     "execution_count": 147,
     "metadata": {},
     "output_type": "execute_result"
    }
   ],
   "source": [
    "results"
   ]
  },
  {
   "cell_type": "code",
   "execution_count": 149,
   "id": "e74cdfb9",
   "metadata": {},
   "outputs": [
    {
     "name": "stdout",
     "output_type": "stream",
     "text": [
      "                        user_id  unique_users  percentage\n",
      "group   device  sex                                      \n",
      "control Desktop Female    15227         90400       16.84\n",
      "                Male      15146         90400       16.75\n",
      "        Mobile  Female     7515         90400        8.31\n",
      "                Male       7702         90400        8.52\n",
      "test    Desktop Female    14770         90400       16.34\n",
      "                Male      15057         90400       16.66\n",
      "        Mobile  Female     7563         90400        8.37\n",
      "                Male       7420         90400        8.21\n"
     ]
    }
   ],
   "source": [
    "results2=df.groupby(by=['group','device','sex']).agg({'user_id':pd.Series.nunique})\n",
    "results2=pd.DataFrame(results2)\n",
    "results2['unique_users']=len(df.user_id.unique())\n",
    "results2['percentage']=round(results2['user_id']/results2['unique_users']*100,2)\n",
    "print(results2)"
   ]
  },
  {
   "cell_type": "code",
   "execution_count": 163,
   "id": "33e14c99",
   "metadata": {},
   "outputs": [],
   "source": [
    "test=df[df.group=='test']\n",
    "control=df[df.group=='control']"
   ]
  },
  {
   "cell_type": "code",
   "execution_count": 164,
   "id": "e2fbab24",
   "metadata": {},
   "outputs": [
    {
     "name": "stdout",
     "output_type": "stream",
     "text": [
      "test_size: 44810\n",
      "con_size: 45590\n"
     ]
    }
   ],
   "source": [
    "print('test_size:',len(test))\n",
    "print('con_size:',len(control))"
   ]
  },
  {
   "cell_type": "code",
   "execution_count": 165,
   "id": "2e83faf6",
   "metadata": {},
   "outputs": [],
   "source": [
    "test_mean=test['payment_confirmation'].mean()\n",
    "cntrol_mean=control['payment_confirmation'].mean()\n",
    "test_std=test['payment_confirmation'].std()\n",
    "cntrol_std=control['payment_confirmation'].std()"
   ]
  },
  {
   "cell_type": "code",
   "execution_count": 168,
   "id": "4dd6576f",
   "metadata": {},
   "outputs": [
    {
     "name": "stdout",
     "output_type": "stream",
     "text": [
      "test_conversion_rate:0.49%\n",
      "control_conversion_rate:0.51%\n",
      "test_std: 0.07\n",
      "control_std: 0.07\n"
     ]
    }
   ],
   "source": [
    "print('test_conversion_rate:%s%%' %round(test_mean*100,2))\n",
    "print('control_conversion_rate:%s%%' %round(cntrol_mean*100,2))\n",
    "print('test_std:',round(test_std,2))\n",
    "print('control_std:',round(cntrol_std,2))"
   ]
  },
  {
   "cell_type": "code",
   "execution_count": 169,
   "id": "3f5c2390",
   "metadata": {},
   "outputs": [
    {
     "name": "stdout",
     "output_type": "stream",
     "text": [
      "statistic -0.38195831967542987\n",
      "p_value 0.7024931787844451\n",
      "Not significant\n"
     ]
    }
   ],
   "source": [
    "test_result=df[df.group=='test']['payment_confirmation']\n",
    "control_result=df[df.group=='control']['payment_confirmation']\n",
    "ttest=stats.ttest_ind(test_result,control_result)\n",
    "statistic=ttest[0]\n",
    "p_value=ttest[1]\n",
    "print('statistic',statistic)\n",
    "print('p_value',p_value)\n",
    "if p_value>=0.05:\n",
    "    print('Not significant')\n",
    "else:\n",
    "    print('Significant!')"
   ]
  },
  {
   "cell_type": "code",
   "execution_count": null,
   "id": "dc6975f3",
   "metadata": {},
   "outputs": [],
   "source": []
  }
 ],
 "metadata": {
  "kernelspec": {
   "display_name": "Python 3",
   "language": "python",
   "name": "python3"
  },
  "language_info": {
   "codemirror_mode": {
    "name": "ipython",
    "version": 3
   },
   "file_extension": ".py",
   "mimetype": "text/x-python",
   "name": "python",
   "nbconvert_exporter": "python",
   "pygments_lexer": "ipython3",
   "version": "3.8.10"
  }
 },
 "nbformat": 4,
 "nbformat_minor": 5
}
